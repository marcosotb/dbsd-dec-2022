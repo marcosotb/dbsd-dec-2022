{
  "cells": [
    {
      "cell_type": "markdown",
      "metadata": {
        "id": "UqbP_AqsemqK"
      },
      "source": [
        "# Dreambooth Stable Diffusion - ☃️🎄XMas 2022 Edition🎄☃️\n",
        "This Colab is based on Shivam Shrirao's repository and has been modified to use revision hash 47f456ea3dd3c6ba3f5cc1bcc0f69e79c787208b of that repository from 2022-12-25.\n",
        "\n",
        "https://github.com/yushan777/dbsd-xmas-edition\n",
        "\n",
        "https://github.com/ShivamShrirao/diffusers/tree/main/examples/dreambooth\n",
        "\n",
        "https://arxiv.org/pdf/2208.12242.pdf"
      ]
    },
    {
      "cell_type": "code",
      "execution_count": null,
      "metadata": {
        "cellView": "form",
        "colab": {
          "base_uri": "https://localhost:8080/"
        },
        "id": "XU7NuMAA2drw",
        "outputId": "74b2ce51-9f2a-4335-e01f-6d6a6c7a034a"
      },
      "outputs": [
        {
          "name": "stdout",
          "output_type": "stream",
          "text": [
            "Tesla T4, 15360 MiB, 15101 MiB\n"
          ]
        }
      ],
      "source": [
        "#@title 1. Check type of GPU and VRAM available.\n",
        "!nvidia-smi --query-gpu=name,memory.total,memory.free --format=csv,noheader"
      ]
    },
    {
      "cell_type": "code",
      "execution_count": null,
      "metadata": {
        "id": "aLWXPZqjsZVV"
      },
      "outputs": [],
      "source": [
        "#@title 2. Build Environment\n",
        "\n",
        "# uninstall pytorch to clean things up a bit\n",
        "print(\"Uninstalling existing Pytorch...\")\n",
        "%pip uninstall torch torchtext torchaudio torchvision --y\n",
        "\n",
        "# install diffusers from the ShivamShrirao's repo, revision : 47f456ea3dd3c6ba3f5cc1bcc0f69e79c787208b (25th Dec 2022)\n",
        "%pip install git+https://github.com/ShivamShrirao/diffusers.git@47f456ea3dd3c6ba3f5cc1bcc0f69e79c787208b\n",
        "\n",
        "# get train_dreambooth.py from revision 47f456ea3dd3c6ba3f5cc1bcc0f69e79c787208b\n",
        "!wget https://github.com/ShivamShrirao/diffusers/raw/47f456ea3dd3c6ba3f5cc1bcc0f69e79c787208b/examples/dreambooth/train_dreambooth.py\n",
        "\n",
        "# for scripts we want the latest ones so that safetensors are supported\n",
        "!wget -q https://github.com/ShivamShrirao/diffusers/raw/main/scripts/convert_diffusers_to_original_stable_diffusion.py\n",
        "!wget -q https://github.com/ShivamShrirao/diffusers/raw/main/scripts/convert_original_stable_diffusion_to_diffusers.py\n",
        "\n",
        "# install requisite packages\n",
        "%pip install torch==1.13.0+cu116 torchvision==0.14.0+cu116 torchaudio==0.13.0 --extra-index-url https://download.pytorch.org/whl/cu116\n",
        "%pip install -q -U --pre triton==2.0.0.dev20221030\n",
        "%pip install -q accelerate==0.12.0 transformers==4.23.1 ftfy bitsandbytes==0.35.0 gradio natsort safetensors\n",
        "%pip install -q https://github.com/yushan777/xformers-wheels/releases/download/xformers-0.015.dev0-py38/xformers-0.0.15.dev0-cp38-cp38-linux_x86_64.whl\n",
        "\n"
      ]
    },
    {
      "cell_type": "code",
      "execution_count": null,
      "metadata": {
        "cellView": "form",
        "id": "Rxg0y5MBudmd"
      },
      "outputs": [],
      "source": [
        "#@title 3. Token, Class, Prompt\n",
        "#@markdown Enter Token and Class words.  If empty, defaults will be used.\n",
        "\n",
        "# TOKEN is a unique identifier linked to the subject that you are training\n",
        "TOKEN_WORD = \"zwx\" #@param {type:\"string\"}\n",
        "if len(TOKEN_WORD) == 0:\n",
        "  TOKEN_WORD = \"zwx\"\n",
        "\n",
        "# CLASS is a coarse class descriptor of the subject (e.g. person, man, woman, cat, dog, watch, etc.).\n",
        "CLASS_WORD = \"person\" #@param {type:\"string\"}\n",
        "if len(CLASS_WORD) == 0:\n",
        "  CLASS_WORD = \"person\"\n",
        "\n"
      ]
    },
    {
      "cell_type": "code",
      "execution_count": null,
      "metadata": {
        "cellView": "form",
        "id": "-APTAioh6o5A"
      },
      "outputs": [],
      "source": [
        "#@title 4. Google Drive, Model Paths & Directory Settings\n",
        "from google.colab import drive\n",
        "from os import path\n",
        "\n",
        "google_drive_dir = '/content/drive'\n",
        "\n",
        "#@markdown Mount Google Drive\n",
        "mount_google_drive = True #@param {type:\"boolean\"}\n",
        "if mount_google_drive==True:\n",
        "  if path.exists(google_drive_dir)==False: \n",
        "    drive.mount(google_drive_dir)\n",
        "    print(f'1Google Drive mounted to {google_drive_dir}')\n",
        "  else: \n",
        "    print(f'Google Drive already mounted at {google_drive_dir}')\n",
        "\n",
        "#@markdown Save trained models directly in google drive? (will override above setting)\n",
        "save_models_to_gdrive = False #@param {type:\"boolean\"}\n",
        "if save_models_to_gdrive==True:\n",
        "  if path.exists(google_drive_dir)==False: \n",
        "    drive.mount('google_drive_dir')\n",
        "    print(f'2Google Drive mounted to {google_drive_dir}')\n",
        "  else:\n",
        "    print(f'Google Drive already mounted at {google_drive_dir}')\n",
        "    \n",
        "#@markdown Name/Path of the initial model. (this can be a HuggingFace repo address or a local path)\n",
        "MODEL_NAME = \"runwayml/stable-diffusion-v1-5\" #@param {type:\"string\"}\n",
        "\n",
        "#@markdown Enter the directory name to save model in. Leave empty for default. \\\n",
        "#@markdown _Default will be `stable_diffusion_weights/{TOKEN_WORD}`_\n",
        "OUTPUT_DIR = \"stable_diffusion_weights/zwx\" #@param {type:\"string\"}\n",
        "if save_models_to_gdrive:\n",
        "  if len(OUTPUT_DIR)==0:\n",
        "    OUTPUT_DIR = f'{google_drive_dir}' + \"/MyDrive/\" + f'stable_diffusion_weights/{TOKEN_WORD}'\n",
        "  else:\n",
        "    OUTPUT_DIR = f'{google_drive_dir}' + \"/MyDrive/\" + OUTPUT_DIR\n",
        "else:\n",
        "  if len(OUTPUT_DIR)==0:\n",
        "    OUTPUT_DIR = \"/content/\" + f'stable_diffusion_weights/{TOKEN_WORD}'\n",
        "  else:\n",
        "    if OUTPUT_DIR.startswith('/content/') == False:\n",
        "      OUTPUT_DIR = '/content/' + f'{OUTPUT_DIR}'    \n",
        "\n",
        "print(f\"[*] Weights will be saved at {OUTPUT_DIR}\")\n",
        "\n",
        "!mkdir -p $OUTPUT_DIR\n"
      ]
    },
    {
      "cell_type": "code",
      "execution_count": null,
      "metadata": {
        "cellView": "form",
        "id": "ARPlC5lZ6o5A"
      },
      "outputs": [],
      "source": [
        "#@title 5. Instance and Class Directory Paths\n",
        "# After running this cell, place your instance (training images) images into the directory specified here\n",
        "#@markdown #### Specify dir for instance images or leave blank for default. \\\n",
        "#@markdown _Default will be /<area>content/training_images/{TOKEN_WORD}._ \\\n",
        "INSTANCE_DIR = '/content/training_images/zwx' #@param {type:\"string\"}\n",
        "\n",
        "if len(INSTANCE_DIR) == 0: \n",
        "  INSTANCE_DIR = f'/content/training_images/{TOKEN_WORD}' \n",
        "else:\n",
        "  if INSTANCE_DIR.startswith('/content/')==False:\n",
        "   INSTANCE_DIR = '/content/' + f'{INSTANCE_DIR}'\n",
        "\n",
        "# After running this cell, place your class (regularization) images into the directory specificed here. \n",
        "# Making them readily available in Google Drive will make things faster\n",
        "\n",
        "#@markdown #### Specify dir for class images (can be prexisting directory) or leave blank for default.\n",
        "#@markdown _Default will be /<area>content/class_images/{CLASS_WORD}._ \\\n",
        "#@markdown _If no class images are found then they will be created during training (slower)._ \\\n",
        "#@markdown _If existing class images are found then they will be used. (faster)._\n",
        "CLASS_DIR =  '/content/drive/MyDrive/class_images/SD1-5/person-ddim' #@param {type:\"string\"}\n",
        "if len(CLASS_DIR) == 0: \n",
        "  CLASS_DIR = f'/content/class_images/{CLASS_WORD}'\n",
        "else:\n",
        "  if CLASS_DIR.startswith('/content/')==False:\n",
        "   CLASS_DIR = '/content/' + f'{CLASS_DIR}'\n"
      ]
    },
    {
      "cell_type": "code",
      "execution_count": null,
      "metadata": {
        "id": "5vDpCxId1aCm"
      },
      "outputs": [],
      "source": [
        "#@title 6. Concepts List.\n",
        "# variables used so far are for one concept or subject only as well as to\n",
        "# for clarity for those who may be new to this. \n",
        "# they are not essential as you can just type in literal strings as \n",
        "# shown in the commented-out concepts below\n",
        "# if you choose to do multi-concepts, you must create the directories manually \n",
        "# and enter the correct paths\n",
        "\n",
        "# INSTANCE_PROMPT will be made up of TOKEN_WORD + CLASS_WORD. \n",
        "INSTANCE_PROMPT = f'{TOKEN_WORD} {CLASS_WORD}'\n",
        "\n",
        "# You can also add multiple concepts here. \n",
        "# Try tweaking `--max_train_steps` accordingly the more concepts you have.\n",
        "concepts_list = [\n",
        "    {\n",
        "        \"instance_prompt\":      f'{INSTANCE_PROMPT}',\n",
        "        \"class_prompt\":         f'{CLASS_WORD}',\n",
        "        \"instance_data_dir\":    f'{INSTANCE_DIR}',\n",
        "        \"class_data_dir\":       f'{CLASS_DIR}'\n",
        "    },\n",
        "#    {\n",
        "#        \"instance_prompt\":      \"skf person\",\n",
        "#        \"class_prompt\":         \"person\",\n",
        "#        \"instance_data_dir\":    \"/content/training_images/skf\",\n",
        "#        \"class_data_dir\":       \"/content/drive/MyDrive/class_images/SD1-5/person-ddim\"\n",
        "#    },\n",
        "#     {\n",
        "#         \"instance_prompt\":      \"ukj dog\",\n",
        "#         \"class_prompt\":         \"dog\",\n",
        "#         \"instance_data_dir\":    \"/content/training_images/ukj\",\n",
        "#         \"class_data_dir\":       \"/content/drive/MyDrive/class_images/SD1-5/dog-ddim\"\n",
        "#     }\n",
        "]\n",
        "\n",
        "import json\n",
        "import os\n",
        "# create an instance directory for each concept's training images\n",
        "for c in concepts_list:\n",
        "    os.makedirs(c[\"instance_data_dir\"], exist_ok=True)\n",
        "\n",
        "# create the concepts_list.json file\n",
        "with open(\"concepts_list.json\", \"w\") as f:\n",
        "    json.dump(concepts_list, f, indent=4)"
      ]
    },
    {
      "cell_type": "code",
      "execution_count": null,
      "metadata": {
        "cellView": "form",
        "id": "FaeSRXuG6o5B"
      },
      "outputs": [],
      "source": [
        "#@title 7. Upload Your Training Images 🌌🌄🏞️\n",
        "\n",
        "#@markdown You can use the file manager on the left panel to upload \\\n",
        "#@markdown (drag and drop) your instance images to `INSTANCE_DIR` defined in `CELL 5` \\ \n",
        "print(\"drag and drop your images into the folder : \" + f'{INSTANCE_DIR}')\n"
      ]
    },
    {
      "cell_type": "markdown",
      "metadata": {
        "id": "qn5ILIyDJIcX"
      },
      "source": [
        "### Training Parameter Combinations\n",
        "\n",
        "Use the table below to choose the best flags based on your memory and speed requirements. Tested on Tesla T4 GPU.\n",
        "\n",
        "\n",
        "| `fp16` | `train_batch_size` | `gradient_accumulation_steps` | `gradient_checkpointing` | `use_8bit_adam` | GB VRAM usage | Speed (it/s) |\n",
        "| ---- | ------------------ | ----------------------------- | ----------------------- | --------------- | ---------- | ------------ |\n",
        "| fp16 | 1                  | 1                             | TRUE                    | TRUE            | 9.92       | 0.93         |\n",
        "| no   | 1                  | 1                             | TRUE                    | TRUE            | 10.08      | 0.42         |\n",
        "| fp16 | 2                  | 1                             | TRUE                    | TRUE            | 10.4       | 0.66         |\n",
        "| fp16 | 1                  | 1                             | FALSE                   | TRUE            | 11.17      | 1.14         |\n",
        "| no   | 1                  | 1                             | FALSE                   | TRUE            | 11.17      | 0.49         |\n",
        "| fp16 | 1                  | 2                             | TRUE                    | TRUE            | 11.56      | 1            |\n",
        "| fp16 | 2                  | 1                             | FALSE                   | TRUE            | 13.67      | 0.82         |\n",
        "| fp16 | 1                  | 2                             | FALSE                   | TRUE            | 13.7       | 0.83          |\n",
        "| fp16 | 1                  | 1                             | TRUE                    | FALSE           | 15.79      | 0.77         |\n"
      ]
    },
    {
      "cell_type": "markdown",
      "metadata": {
        "id": "-ioxxvHoicPs"
      },
      "source": [
        "Add `--gradient_checkpointing` flag for around 9.92 GB VRAM usage.\n",
        "\n",
        "remove `--use_8bit_adam` flag for full precision. Requires 15.79 GB with `--gradient_checkpointing` else 17.8 GB.\n",
        "\n",
        "remove `--train_text_encoder` flag to reduce memory usage further, degrades output quality."
      ]
    },
    {
      "cell_type": "code",
      "execution_count": null,
      "metadata": {
        "id": "jjcSXTp-u-Eg"
      },
      "outputs": [],
      "source": [
        "#@title 8. Training!\n",
        "\n",
        "SAMPLE_PROMPT = f'a photo of {TOKEN_WORD} {CLASS_WORD}'\n",
        "\n",
        "!accelerate launch train_dreambooth.py \\\n",
        "  --pretrained_model_name_or_path=$MODEL_NAME \\\n",
        "  --pretrained_vae_name_or_path=\"stabilityai/sd-vae-ft-mse\" \\\n",
        "  --output_dir=$OUTPUT_DIR \\\n",
        "  --revision=\"fp16\" \\\n",
        "  --with_prior_preservation --prior_loss_weight=1.0 \\\n",
        "  --seed=1337 \\\n",
        "  --resolution=512 \\\n",
        "  --train_batch_size=1 \\\n",
        "  --train_text_encoder \\\n",
        "  --mixed_precision=\"fp16\" \\\n",
        "  --use_8bit_adam \\\n",
        "  --gradient_accumulation_steps=1 \\\n",
        "  --learning_rate=1e-6 \\\n",
        "  --lr_scheduler=\"constant\" \\\n",
        "  --lr_warmup_steps=0 \\\n",
        "  --num_class_images=50 \\\n",
        "  --sample_batch_size=4 \\\n",
        "  --max_train_steps=2000 \\\n",
        "  --save_interval=10000 \\\n",
        "  --save_min_steps\n",
        "  --save_sample_prompt=$SAMPLE_PROMPT \\\n",
        "  --concepts_list=\"concepts_list.json\"\n",
        "\n",
        "# Reduce the `--save_interval` to lower than `--max_train_steps` to save weights from intermediate steps.\n",
        "# `--save_sample_prompt` can be same as `--instance_prompt` to generate intermediate samples (saved along with weights in samples directory)."
      ]
    },
    {
      "cell_type": "code",
      "execution_count": null,
      "metadata": {
        "cellView": "form",
        "colab": {
          "base_uri": "https://localhost:8080/"
        },
        "id": "89Az5NUxOWdy",
        "outputId": "8ea51dba-5b85-4918-cce1-0a9886b6a4a8"
      },
      "outputs": [
        {
          "name": "stdout",
          "output_type": "stream",
          "text": [
            "[*] WEIGHTS_DIR=/content/stable_diffusion_weights/zwx/800\n"
          ]
        }
      ],
      "source": [
        "#@markdown Specify the weights directory to use (leave blank for latest, but you still need to run the cell)\n",
        "WEIGHTS_DIR = \"\" #@param {type:\"string\"}\n",
        "if WEIGHTS_DIR == \"\":\n",
        "    from natsort import natsorted\n",
        "    from glob import glob\n",
        "    import os\n",
        "    WEIGHTS_DIR = natsorted(glob(OUTPUT_DIR + os.sep + \"*\"))[-1]\n",
        "print(f\"[*] WEIGHTS_DIR={WEIGHTS_DIR}\")"
      ]
    },
    {
      "cell_type": "code",
      "execution_count": null,
      "metadata": {
        "cellView": "form",
        "id": "4OY0WIGqeIbo"
      },
      "outputs": [],
      "source": [
        "#@title 9. Generate Grid of Preview Images Generated During Training (Optional)\n",
        "#@markdown Run to generate a grid of preview images from all saved weights.\n",
        "import os\n",
        "import matplotlib.pyplot as plt\n",
        "import matplotlib.image as mpimg\n",
        "\n",
        "weights_folder = OUTPUT_DIR\n",
        "folders = sorted([f for f in os.listdir(weights_folder) if f != \"0\"], key=lambda x: int(x))\n",
        "\n",
        "row = len(folders)\n",
        "col = len(os.listdir(os.path.join(weights_folder, folders[0], \"samples\")))\n",
        "scale = 4\n",
        "fig, axes = plt.subplots(row, col, figsize=(col*scale, row*scale), gridspec_kw={'hspace': 0, 'wspace': 0})\n",
        "\n",
        "for i, folder in enumerate(folders):\n",
        "    folder_path = os.path.join(weights_folder, folder)\n",
        "    image_folder = os.path.join(folder_path, \"samples\")\n",
        "    images = [f for f in os.listdir(image_folder)]\n",
        "    for j, image in enumerate(images):\n",
        "        if row == 1:\n",
        "            currAxes = axes[j]\n",
        "        else:\n",
        "            currAxes = axes[i, j]\n",
        "        if i == 0:\n",
        "            currAxes.set_title(f\"Image {j}\")\n",
        "        if j == 0:\n",
        "            currAxes.text(-0.1, 0.5, folder, rotation=0, va='center', ha='center', transform=currAxes.transAxes)\n",
        "        image_path = os.path.join(image_folder, image)\n",
        "        img = mpimg.imread(image_path)\n",
        "        currAxes.imshow(img, cmap='gray')\n",
        "        currAxes.axis('off')\n",
        "        \n",
        "plt.tight_layout()\n",
        "plt.savefig('grid.png', dpi=72)"
      ]
    },
    {
      "cell_type": "code",
      "execution_count": null,
      "metadata": {
        "cellView": "form",
        "id": "dcXzsUyG1aCy"
      },
      "outputs": [],
      "source": [
        "#@title 10. Convert weights to ckpt to use in web UIs like AUTOMATIC1111.\n",
        "#@markdown Run conversion.\n",
        "ckpt_path = WEIGHTS_DIR + \"/model.ckpt\"\n",
        "\n",
        "half_arg = \"\"\n",
        "#@markdown  Whether to convert to fp16, takes half the space (2GB).\n",
        "fp16 = True #@param {type: \"boolean\"}\n",
        "if fp16:\n",
        "    half_arg = \"--half\"\n",
        "!python convert_diffusers_to_original_stable_diffusion.py --model_path $WEIGHTS_DIR  --checkpoint_path $ckpt_path $half_arg\n",
        "print(f\"[*] Converted ckpt saved at {ckpt_path}\")"
      ]
    },
    {
      "cell_type": "code",
      "execution_count": null,
      "metadata": {
        "cellView": "form",
        "id": "gW15FjffdTID"
      },
      "outputs": [],
      "source": [
        "#@title 11. Inference Setup \n",
        "import torch\n",
        "from torch import autocast\n",
        "from diffusers import StableDiffusionPipeline, DDIMScheduler\n",
        "from IPython.display import display\n",
        "\n",
        "model_path = WEIGHTS_DIR             # If you want to use previously trained model saved in gdrive, replace this with the full path of model in gdrive\n",
        "\n",
        "pipe = StableDiffusionPipeline.from_pretrained(model_path, safety_checker=None, torch_dtype=torch.float16).to(\"cuda\")\n",
        "pipe.scheduler = DDIMScheduler.from_config(pipe.scheduler.config)\n",
        "pipe.enable_xformers_memory_efficient_attention()\n",
        "g_cuda = None"
      ]
    },
    {
      "cell_type": "code",
      "execution_count": null,
      "metadata": {
        "cellView": "form",
        "id": "K6xoHWSsbcS3",
        "scrolled": false
      },
      "outputs": [],
      "source": [
        "#@title 12. Run for generating images.\n",
        "\n",
        "g_cuda = torch.Generator(device='cuda')\n",
        "seed = 52362 #@param {type:\"number\"}\n",
        "g_cuda.manual_seed(seed)\n",
        "\n",
        "\n",
        "prompt = \"photo of zwx person\" #@param {type:\"string\"}\n",
        "negative_prompt = \"\" #@param {type:\"string\"}\n",
        "num_samples = 4 #@param {type:\"number\"}\n",
        "guidance_scale = 7 #@param {type:\"number\"}\n",
        "num_inference_steps = 24 #@param {type:\"number\"}\n",
        "height = 512 #@param {type:\"number\"}\n",
        "width = 512 #@param {type:\"number\"}\n",
        "\n",
        "with autocast(\"cuda\"), torch.inference_mode():\n",
        "    images = pipe(\n",
        "        prompt,\n",
        "        height=height,\n",
        "        width=width,\n",
        "        negative_prompt=negative_prompt,\n",
        "        num_images_per_prompt=num_samples,\n",
        "        num_inference_steps=num_inference_steps,\n",
        "        guidance_scale=guidance_scale,\n",
        "        generator=g_cuda\n",
        "    ).images\n",
        "\n",
        "for img in images:\n",
        "    display(img)"
      ]
    },
    {
      "cell_type": "code",
      "execution_count": null,
      "metadata": {
        "id": "WMCqQ5Tcdsm2"
      },
      "outputs": [],
      "source": [
        "#@markdown Run Gradio UI for generating images.\n",
        "import gradio as gr\n",
        "\n",
        "def inference(prompt, negative_prompt, num_samples, height=512, width=512, num_inference_steps=50, guidance_scale=7.5):\n",
        "    with torch.autocast(\"cuda\"), torch.inference_mode():\n",
        "        return pipe(\n",
        "                prompt, height=int(height), width=int(width),\n",
        "                negative_prompt=negative_prompt,\n",
        "                num_images_per_prompt=int(num_samples),\n",
        "                num_inference_steps=int(num_inference_steps), guidance_scale=guidance_scale,\n",
        "                generator=g_cuda\n",
        "            ).images\n",
        "\n",
        "with gr.Blocks() as demo:\n",
        "    with gr.Row():\n",
        "        with gr.Column():\n",
        "            prompt = gr.Textbox(label=\"Prompt\", value=\"photo of zwx dog in a bucket\")\n",
        "            negative_prompt = gr.Textbox(label=\"Negative Prompt\", value=\"\")\n",
        "            run = gr.Button(value=\"Generate\")\n",
        "            with gr.Row():\n",
        "                num_samples = gr.Number(label=\"Number of Samples\", value=4)\n",
        "                guidance_scale = gr.Number(label=\"Guidance Scale\", value=7.5)\n",
        "            with gr.Row():\n",
        "                height = gr.Number(label=\"Height\", value=512)\n",
        "                width = gr.Number(label=\"Width\", value=512)\n",
        "            num_inference_steps = gr.Slider(label=\"Steps\", value=24)\n",
        "        with gr.Column():\n",
        "            gallery = gr.Gallery()\n",
        "\n",
        "    run.click(inference, inputs=[prompt, negative_prompt, num_samples, height, width, num_inference_steps, guidance_scale], outputs=gallery)\n",
        "\n",
        "demo.launch(debug=True)"
      ]
    },
    {
      "cell_type": "code",
      "execution_count": null,
      "metadata": {
        "cellView": "form",
        "id": "lJoOgLQHnC8L"
      },
      "outputs": [],
      "source": [
        "#@title (Optional) Delete diffuser and old weights and only keep the ckpt to free up drive space.\n",
        "\n",
        "#@markdown [ ! ] Caution, Only execute if you are sure u want to delete the diffuser format weights and only use the ckpt.\n",
        "import shutil\n",
        "from glob import glob\n",
        "import os\n",
        "for f in glob(OUTPUT_DIR+os.sep+\"*\"):\n",
        "    if f != WEIGHTS_DIR:\n",
        "        shutil.rmtree(f)\n",
        "        print(\"Deleted\", f)\n",
        "for f in glob(WEIGHTS_DIR+\"/*\"):\n",
        "    if not f.endswith(\".ckpt\") or not f.endswith(\".json\"):\n",
        "        try:\n",
        "            shutil.rmtree(f)\n",
        "        except NotADirectoryError:\n",
        "            continue\n",
        "        print(\"Deleted\", f)"
      ]
    },
    {
      "cell_type": "code",
      "execution_count": null,
      "metadata": {
        "id": "jXgi8HM4c-DA"
      },
      "outputs": [],
      "source": [
        "#@title Free runtime memory\n",
        "exit()"
      ]
    }
  ],
  "metadata": {
    "accelerator": "GPU",
    "colab": {
      "provenance": []
    },
    "kernelspec": {
      "display_name": "Python 3",
      "language": "python",
      "name": "python3"
    },
    "language_info": {
      "codemirror_mode": {
        "name": "ipython",
        "version": 3
      },
      "file_extension": ".py",
      "mimetype": "text/x-python",
      "name": "python",
      "nbconvert_exporter": "python",
      "pygments_lexer": "ipython3",
      "version": "3.11.0"
    },
    "vscode": {
      "interpreter": {
        "hash": "1a1af0ee75eeea9e2e1ee996c87e7a2b11a0bebd85af04bb136d915cefc0abce"
      }
    }
  },
  "nbformat": 4,
  "nbformat_minor": 0
}
